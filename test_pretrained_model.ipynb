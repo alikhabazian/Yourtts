{
 "cells": [
  {
   "cell_type": "code",
   "execution_count": 1,
   "id": "0f9ef970-cad9-402c-abc3-518a39e07894",
   "metadata": {},
   "outputs": [],
   "source": [
    "import torch"
   ]
  },
  {
   "cell_type": "code",
   "execution_count": 2,
   "id": "a6201619-48f2-409e-be13-b618df052d4a",
   "metadata": {},
   "outputs": [],
   "source": [
    "model_path = 'best_model_YourTTS_VCTK.pth'"
   ]
  },
  {
   "cell_type": "code",
   "execution_count": 3,
   "id": "efd8d1f1-b8ab-4041-86f3-dd0e696a6245",
   "metadata": {},
   "outputs": [
    {
     "name": "stderr",
     "output_type": "stream",
     "text": [
      "/tmp/ipykernel_206113/2457720587.py:1: FutureWarning: You are using `torch.load` with `weights_only=False` (the current default value), which uses the default pickle module implicitly. It is possible to construct malicious pickle data which will execute arbitrary code during unpickling (See https://github.com/pytorch/pytorch/blob/main/SECURITY.md#untrusted-models for more details). In a future release, the default value for `weights_only` will be flipped to `True`. This limits the functions that could be executed during unpickling. Arbitrary objects will no longer be allowed to be loaded via this mode unless they are explicitly allowlisted by the user via `torch.serialization.add_safe_globals`. We recommend you start setting `weights_only=True` for any use case where you don't have full control of the loaded file. Please open an issue on GitHub for any issues related to this experimental feature.\n",
      "  model = torch.load(model_path)\n"
     ]
    }
   ],
   "source": [
    "model = torch.load(model_path)"
   ]
  },
  {
   "cell_type": "code",
   "execution_count": 2,
   "id": "310dd42d-43c6-4eb2-82cf-75e352fadf3d",
   "metadata": {},
   "outputs": [],
   "source": [
    "from trainer import Trainer, TrainerArgs"
   ]
  },
  {
   "cell_type": "code",
   "execution_count": 1,
   "id": "5eb74a4d-4653-4e4f-abca-83c7b90f2ab6",
   "metadata": {},
   "outputs": [],
   "source": [
    "from TTS.config.shared_configs import BaseDatasetConfig\n",
    "from TTS.tts.configs.vits_config import VitsConfig\n",
    "from TTS.tts.datasets import load_tts_samples\n",
    "from TTS.tts.models.vits import CharactersConfig, Vits, VitsArgs, VitsAudioConfig"
   ]
  },
  {
   "cell_type": "code",
   "execution_count": 4,
   "id": "a05e9387-7f0f-4b82-aa7a-24da3c3cff1c",
   "metadata": {},
   "outputs": [
    {
     "ename": "NameError",
     "evalue": "name 'D_VECTOR_FILES' is not defined",
     "output_type": "error",
     "traceback": [
      "\u001b[0;31m---------------------------------------------------------------------------\u001b[0m",
      "\u001b[0;31mNameError\u001b[0m                                 Traceback (most recent call last)",
      "Cell \u001b[0;32mIn[4], line 9\u001b[0m\n\u001b[1;32m      1\u001b[0m model_args \u001b[38;5;241m=\u001b[39m VitsArgs(\n\u001b[1;32m      2\u001b[0m     spec_segment_size\u001b[38;5;241m=\u001b[39m\u001b[38;5;241m62\u001b[39m,\n\u001b[1;32m      3\u001b[0m     hidden_channels\u001b[38;5;241m=\u001b[39m\u001b[38;5;241m192\u001b[39m,\n\u001b[1;32m      4\u001b[0m     hidden_channels_ffn_text_encoder\u001b[38;5;241m=\u001b[39m\u001b[38;5;241m768\u001b[39m,\n\u001b[1;32m      5\u001b[0m     num_heads_text_encoder\u001b[38;5;241m=\u001b[39m\u001b[38;5;241m2\u001b[39m,\n\u001b[1;32m      6\u001b[0m     num_layers_text_encoder\u001b[38;5;241m=\u001b[39m\u001b[38;5;241m10\u001b[39m,\n\u001b[1;32m      7\u001b[0m     kernel_size_text_encoder\u001b[38;5;241m=\u001b[39m\u001b[38;5;241m3\u001b[39m,\n\u001b[1;32m      8\u001b[0m     dropout_p_text_encoder\u001b[38;5;241m=\u001b[39m\u001b[38;5;241m0.1\u001b[39m,\n\u001b[0;32m----> 9\u001b[0m     d_vector_file\u001b[38;5;241m=\u001b[39m\u001b[43mD_VECTOR_FILES\u001b[49m,\n\u001b[1;32m     10\u001b[0m     use_d_vector_file\u001b[38;5;241m=\u001b[39m\u001b[38;5;28;01mTrue\u001b[39;00m,\n\u001b[1;32m     11\u001b[0m     d_vector_dim\u001b[38;5;241m=\u001b[39m\u001b[38;5;241m512\u001b[39m,\n\u001b[1;32m     12\u001b[0m     speaker_encoder_model_path\u001b[38;5;241m=\u001b[39mSPEAKER_ENCODER_CHECKPOINT_PATH,\n\u001b[1;32m     13\u001b[0m     speaker_encoder_config_path\u001b[38;5;241m=\u001b[39mSPEAKER_ENCODER_CONFIG_PATH,\n\u001b[1;32m     14\u001b[0m     resblock_type_decoder\u001b[38;5;241m=\u001b[39m\u001b[38;5;124m\"\u001b[39m\u001b[38;5;124m2\u001b[39m\u001b[38;5;124m\"\u001b[39m,  \u001b[38;5;66;03m# In the paper, we accidentally trained the YourTTS using ResNet blocks type 2, if you like you can use the ResNet blocks type 1 like the VITS model\u001b[39;00m\n\u001b[1;32m     15\u001b[0m     \u001b[38;5;66;03m# Useful parameters to enable the Speaker Consistency Loss (SCL) described in the paper\u001b[39;00m\n\u001b[1;32m     16\u001b[0m     use_speaker_encoder_as_loss\u001b[38;5;241m=\u001b[39m\u001b[38;5;28;01mFalse\u001b[39;00m,\n\u001b[1;32m     17\u001b[0m     \u001b[38;5;66;03m# Useful parameters to enable multilingual training\u001b[39;00m\n\u001b[1;32m     18\u001b[0m     use_language_embedding\u001b[38;5;241m=\u001b[39m\u001b[38;5;28;01mTrue\u001b[39;00m,\n\u001b[1;32m     19\u001b[0m     embedded_language_dim\u001b[38;5;241m=\u001b[39m\u001b[38;5;241m4\u001b[39m,\n\u001b[1;32m     20\u001b[0m )\n",
      "\u001b[0;31mNameError\u001b[0m: name 'D_VECTOR_FILES' is not defined"
     ]
    }
   ],
   "source": [
    "model_args = VitsArgs(\n",
    "    spec_segment_size=62,\n",
    "    hidden_channels=192,\n",
    "    hidden_channels_ffn_text_encoder=768,\n",
    "    num_heads_text_encoder=2,\n",
    "    num_layers_text_encoder=10,\n",
    "    kernel_size_text_encoder=3,\n",
    "    dropout_p_text_encoder=0.1,\n",
    "    d_vector_file=D_VECTOR_FILES,\n",
    "    use_d_vector_file=True,\n",
    "    d_vector_dim=512,\n",
    "    speaker_encoder_model_path=SPEAKER_ENCODER_CHECKPOINT_PATH,\n",
    "    speaker_encoder_config_path=SPEAKER_ENCODER_CONFIG_PATH,\n",
    "    resblock_type_decoder=\"2\",  # In the paper, we accidentally trained the YourTTS using ResNet blocks type 2, if you like you can use the ResNet blocks type 1 like the VITS model\n",
    "    # Useful parameters to enable the Speaker Consistency Loss (SCL) described in the paper\n",
    "    use_speaker_encoder_as_loss=False,\n",
    "    # Useful parameters to enable multilingual training\n",
    "    use_language_embedding=True,\n",
    "    embedded_language_dim=4,\n",
    ")"
   ]
  },
  {
   "cell_type": "code",
   "execution_count": 3,
   "id": "d68108e5-35a7-4ac4-a8c2-a1c4022821f8",
   "metadata": {},
   "outputs": [
    {
     "ename": "NameError",
     "evalue": "name 'OUT_PATH' is not defined",
     "output_type": "error",
     "traceback": [
      "\u001b[0;31m---------------------------------------------------------------------------\u001b[0m",
      "\u001b[0;31mNameError\u001b[0m                                 Traceback (most recent call last)",
      "Cell \u001b[0;32mIn[3], line 2\u001b[0m\n\u001b[1;32m      1\u001b[0m config \u001b[38;5;241m=\u001b[39m VitsConfig(\n\u001b[0;32m----> 2\u001b[0m     output_path\u001b[38;5;241m=\u001b[39m\u001b[43mOUT_PATH\u001b[49m,\n\u001b[1;32m      3\u001b[0m     model_args\u001b[38;5;241m=\u001b[39mmodel_args,\n\u001b[1;32m      4\u001b[0m     run_name\u001b[38;5;241m=\u001b[39mRUN_NAME,\n\u001b[1;32m      5\u001b[0m     project_name\u001b[38;5;241m=\u001b[39m\u001b[38;5;124m\"\u001b[39m\u001b[38;5;124mYourTTS\u001b[39m\u001b[38;5;124m\"\u001b[39m,\n\u001b[1;32m      6\u001b[0m     run_description\u001b[38;5;241m=\u001b[39m\u001b[38;5;124m\"\"\"\u001b[39m\n\u001b[1;32m      7\u001b[0m \u001b[38;5;124m            - YourTTS trained using CML-TTS and LibriTTS datasets\u001b[39m\n\u001b[1;32m      8\u001b[0m \u001b[38;5;124m        \u001b[39m\u001b[38;5;124m\"\"\"\u001b[39m,\n\u001b[1;32m      9\u001b[0m     dashboard_logger\u001b[38;5;241m=\u001b[39m\u001b[38;5;124m\"\u001b[39m\u001b[38;5;124mtensorboard\u001b[39m\u001b[38;5;124m\"\u001b[39m,\n\u001b[1;32m     10\u001b[0m     logger_uri\u001b[38;5;241m=\u001b[39m\u001b[38;5;28;01mNone\u001b[39;00m,\n\u001b[1;32m     11\u001b[0m     audio\u001b[38;5;241m=\u001b[39maudio_config,\n\u001b[1;32m     12\u001b[0m     batch_size\u001b[38;5;241m=\u001b[39mBATCH_SIZE,\n\u001b[1;32m     13\u001b[0m     batch_group_size\u001b[38;5;241m=\u001b[39m\u001b[38;5;241m48\u001b[39m,\n\u001b[1;32m     14\u001b[0m     eval_batch_size\u001b[38;5;241m=\u001b[39mBATCH_SIZE,\n\u001b[1;32m     15\u001b[0m     num_loader_workers\u001b[38;5;241m=\u001b[39m\u001b[38;5;241m8\u001b[39m,\n\u001b[1;32m     16\u001b[0m     eval_split_max_size\u001b[38;5;241m=\u001b[39m\u001b[38;5;241m256\u001b[39m,\n\u001b[1;32m     17\u001b[0m     print_step\u001b[38;5;241m=\u001b[39m\u001b[38;5;241m50\u001b[39m,\n\u001b[1;32m     18\u001b[0m     plot_step\u001b[38;5;241m=\u001b[39m\u001b[38;5;241m100\u001b[39m,\n\u001b[1;32m     19\u001b[0m     log_model_step\u001b[38;5;241m=\u001b[39m\u001b[38;5;241m1000\u001b[39m,\n\u001b[1;32m     20\u001b[0m     save_step\u001b[38;5;241m=\u001b[39m\u001b[38;5;241m5000\u001b[39m,\n\u001b[1;32m     21\u001b[0m     save_n_checkpoints\u001b[38;5;241m=\u001b[39m\u001b[38;5;241m2\u001b[39m,\n\u001b[1;32m     22\u001b[0m     save_checkpoints\u001b[38;5;241m=\u001b[39m\u001b[38;5;28;01mTrue\u001b[39;00m,\n\u001b[1;32m     23\u001b[0m     target_loss\u001b[38;5;241m=\u001b[39m\u001b[38;5;124m\"\u001b[39m\u001b[38;5;124mloss_1\u001b[39m\u001b[38;5;124m\"\u001b[39m,\n\u001b[1;32m     24\u001b[0m     print_eval\u001b[38;5;241m=\u001b[39m\u001b[38;5;28;01mFalse\u001b[39;00m,\n\u001b[1;32m     25\u001b[0m     use_phonemes\u001b[38;5;241m=\u001b[39m\u001b[38;5;28;01mFalse\u001b[39;00m,\n\u001b[1;32m     26\u001b[0m     phonemizer\u001b[38;5;241m=\u001b[39m\u001b[38;5;124m\"\u001b[39m\u001b[38;5;124mespeak\u001b[39m\u001b[38;5;124m\"\u001b[39m,\n\u001b[1;32m     27\u001b[0m     phoneme_language\u001b[38;5;241m=\u001b[39m\u001b[38;5;124m\"\u001b[39m\u001b[38;5;124men\u001b[39m\u001b[38;5;124m\"\u001b[39m,\n\u001b[1;32m     28\u001b[0m     compute_input_seq_cache\u001b[38;5;241m=\u001b[39m\u001b[38;5;28;01mTrue\u001b[39;00m,\n\u001b[1;32m     29\u001b[0m     add_blank\u001b[38;5;241m=\u001b[39m\u001b[38;5;28;01mTrue\u001b[39;00m,\n\u001b[1;32m     30\u001b[0m     text_cleaner\u001b[38;5;241m=\u001b[39m\u001b[38;5;124m\"\u001b[39m\u001b[38;5;124mmultilingual_cleaners\u001b[39m\u001b[38;5;124m\"\u001b[39m,\n\u001b[1;32m     31\u001b[0m     characters\u001b[38;5;241m=\u001b[39mCharactersConfig(\n\u001b[1;32m     32\u001b[0m         characters_class\u001b[38;5;241m=\u001b[39m\u001b[38;5;124m\"\u001b[39m\u001b[38;5;124mTTS.tts.models.vits.VitsCharacters\u001b[39m\u001b[38;5;124m\"\u001b[39m,\n\u001b[1;32m     33\u001b[0m         pad\u001b[38;5;241m=\u001b[39m\u001b[38;5;124m\"\u001b[39m\u001b[38;5;124m_\u001b[39m\u001b[38;5;124m\"\u001b[39m,\n\u001b[1;32m     34\u001b[0m         eos\u001b[38;5;241m=\u001b[39m\u001b[38;5;124m\"\u001b[39m\u001b[38;5;124m&\u001b[39m\u001b[38;5;124m\"\u001b[39m,\n\u001b[1;32m     35\u001b[0m         bos\u001b[38;5;241m=\u001b[39m\u001b[38;5;124m\"\u001b[39m\u001b[38;5;124m*\u001b[39m\u001b[38;5;124m\"\u001b[39m,\n\u001b[1;32m     36\u001b[0m         blank\u001b[38;5;241m=\u001b[39m\u001b[38;5;28;01mNone\u001b[39;00m,\n\u001b[1;32m     37\u001b[0m         characters\u001b[38;5;241m=\u001b[39m\u001b[38;5;124m\"\u001b[39m\u001b[38;5;124mABCDEFGHIJKLMNOPQRSTUVWXYZabcdefghijklmnopqrstuvwxyz\u001b[39m\u001b[38;5;130;01m\\u00a1\u001b[39;00m\u001b[38;5;130;01m\\u00a3\u001b[39;00m\u001b[38;5;130;01m\\u00b7\u001b[39;00m\u001b[38;5;130;01m\\u00b8\u001b[39;00m\u001b[38;5;130;01m\\u00c0\u001b[39;00m\u001b[38;5;130;01m\\u00c1\u001b[39;00m\u001b[38;5;130;01m\\u00c2\u001b[39;00m\u001b[38;5;130;01m\\u00c3\u001b[39;00m\u001b[38;5;130;01m\\u00c4\u001b[39;00m\u001b[38;5;130;01m\\u00c5\u001b[39;00m\u001b[38;5;130;01m\\u00c7\u001b[39;00m\u001b[38;5;130;01m\\u00c8\u001b[39;00m\u001b[38;5;130;01m\\u00c9\u001b[39;00m\u001b[38;5;130;01m\\u00ca\u001b[39;00m\u001b[38;5;130;01m\\u00cb\u001b[39;00m\u001b[38;5;130;01m\\u00cc\u001b[39;00m\u001b[38;5;130;01m\\u00cd\u001b[39;00m\u001b[38;5;130;01m\\u00ce\u001b[39;00m\u001b[38;5;130;01m\\u00cf\u001b[39;00m\u001b[38;5;130;01m\\u00d1\u001b[39;00m\u001b[38;5;130;01m\\u00d2\u001b[39;00m\u001b[38;5;130;01m\\u00d3\u001b[39;00m\u001b[38;5;130;01m\\u00d4\u001b[39;00m\u001b[38;5;130;01m\\u00d5\u001b[39;00m\u001b[38;5;130;01m\\u00d6\u001b[39;00m\u001b[38;5;130;01m\\u00d9\u001b[39;00m\u001b[38;5;130;01m\\u00da\u001b[39;00m\u001b[38;5;130;01m\\u00db\u001b[39;00m\u001b[38;5;130;01m\\u00dc\u001b[39;00m\u001b[38;5;130;01m\\u00df\u001b[39;00m\u001b[38;5;130;01m\\u00e0\u001b[39;00m\u001b[38;5;130;01m\\u00e1\u001b[39;00m\u001b[38;5;130;01m\\u00e2\u001b[39;00m\u001b[38;5;130;01m\\u00e3\u001b[39;00m\u001b[38;5;130;01m\\u00e4\u001b[39;00m\u001b[38;5;130;01m\\u00e5\u001b[39;00m\u001b[38;5;130;01m\\u00e7\u001b[39;00m\u001b[38;5;130;01m\\u00e8\u001b[39;00m\u001b[38;5;130;01m\\u00e9\u001b[39;00m\u001b[38;5;130;01m\\u00ea\u001b[39;00m\u001b[38;5;130;01m\\u00eb\u001b[39;00m\u001b[38;5;130;01m\\u00ec\u001b[39;00m\u001b[38;5;130;01m\\u00ed\u001b[39;00m\u001b[38;5;130;01m\\u00ee\u001b[39;00m\u001b[38;5;130;01m\\u00ef\u001b[39;00m\u001b[38;5;130;01m\\u00f1\u001b[39;00m\u001b[38;5;130;01m\\u00f2\u001b[39;00m\u001b[38;5;130;01m\\u00f3\u001b[39;00m\u001b[38;5;130;01m\\u00f4\u001b[39;00m\u001b[38;5;130;01m\\u00f5\u001b[39;00m\u001b[38;5;130;01m\\u00f6\u001b[39;00m\u001b[38;5;130;01m\\u00f9\u001b[39;00m\u001b[38;5;130;01m\\u00fa\u001b[39;00m\u001b[38;5;130;01m\\u00fb\u001b[39;00m\u001b[38;5;130;01m\\u00fc\u001b[39;00m\u001b[38;5;130;01m\\u0101\u001b[39;00m\u001b[38;5;130;01m\\u0104\u001b[39;00m\u001b[38;5;130;01m\\u0105\u001b[39;00m\u001b[38;5;130;01m\\u0106\u001b[39;00m\u001b[38;5;130;01m\\u0107\u001b[39;00m\u001b[38;5;130;01m\\u010b\u001b[39;00m\u001b[38;5;130;01m\\u0119\u001b[39;00m\u001b[38;5;130;01m\\u0141\u001b[39;00m\u001b[38;5;130;01m\\u0142\u001b[39;00m\u001b[38;5;130;01m\\u0143\u001b[39;00m\u001b[38;5;130;01m\\u0144\u001b[39;00m\u001b[38;5;130;01m\\u0152\u001b[39;00m\u001b[38;5;130;01m\\u0153\u001b[39;00m\u001b[38;5;130;01m\\u015a\u001b[39;00m\u001b[38;5;130;01m\\u015b\u001b[39;00m\u001b[38;5;130;01m\\u0161\u001b[39;00m\u001b[38;5;130;01m\\u0178\u001b[39;00m\u001b[38;5;130;01m\\u0179\u001b[39;00m\u001b[38;5;130;01m\\u017a\u001b[39;00m\u001b[38;5;130;01m\\u017b\u001b[39;00m\u001b[38;5;130;01m\\u017c\u001b[39;00m\u001b[38;5;130;01m\\u020e\u001b[39;00m\u001b[38;5;130;01m\\u04e7\u001b[39;00m\u001b[38;5;130;01m\\u05c2\u001b[39;00m\u001b[38;5;130;01m\\u1b20\u001b[39;00m\u001b[38;5;124m\"\u001b[39m,\n\u001b[1;32m     38\u001b[0m         punctuations\u001b[38;5;241m=\u001b[39m\u001b[38;5;124m\"\u001b[39m\u001b[38;5;130;01m\\u2014\u001b[39;00m\u001b[38;5;124m!\u001b[39m\u001b[38;5;124m'\u001b[39m\u001b[38;5;124m(),-.:;?\u001b[39m\u001b[38;5;130;01m\\u00bf\u001b[39;00m\u001b[38;5;124m \u001b[39m\u001b[38;5;124m\"\u001b[39m,\n\u001b[1;32m     39\u001b[0m         phonemes\u001b[38;5;241m=\u001b[39m\u001b[38;5;124m\"\u001b[39m\u001b[38;5;124miy\u001b[39m\u001b[38;5;130;01m\\u0268\u001b[39;00m\u001b[38;5;130;01m\\u0289\u001b[39;00m\u001b[38;5;130;01m\\u026f\u001b[39;00m\u001b[38;5;124mu\u001b[39m\u001b[38;5;130;01m\\u026a\u001b[39;00m\u001b[38;5;130;01m\\u028f\u001b[39;00m\u001b[38;5;130;01m\\u028a\u001b[39;00m\u001b[38;5;124me\u001b[39m\u001b[38;5;130;01m\\u00f8\u001b[39;00m\u001b[38;5;130;01m\\u0258\u001b[39;00m\u001b[38;5;130;01m\\u0259\u001b[39;00m\u001b[38;5;130;01m\\u0275\u001b[39;00m\u001b[38;5;130;01m\\u0264\u001b[39;00m\u001b[38;5;124mo\u001b[39m\u001b[38;5;130;01m\\u025b\u001b[39;00m\u001b[38;5;130;01m\\u0153\u001b[39;00m\u001b[38;5;130;01m\\u025c\u001b[39;00m\u001b[38;5;130;01m\\u025e\u001b[39;00m\u001b[38;5;130;01m\\u028c\u001b[39;00m\u001b[38;5;130;01m\\u0254\u001b[39;00m\u001b[38;5;130;01m\\u00e6\u001b[39;00m\u001b[38;5;130;01m\\u0250\u001b[39;00m\u001b[38;5;124ma\u001b[39m\u001b[38;5;130;01m\\u0276\u001b[39;00m\u001b[38;5;130;01m\\u0251\u001b[39;00m\u001b[38;5;130;01m\\u0252\u001b[39;00m\u001b[38;5;130;01m\\u1d7b\u001b[39;00m\u001b[38;5;130;01m\\u0298\u001b[39;00m\u001b[38;5;130;01m\\u0253\u001b[39;00m\u001b[38;5;130;01m\\u01c0\u001b[39;00m\u001b[38;5;130;01m\\u0257\u001b[39;00m\u001b[38;5;130;01m\\u01c3\u001b[39;00m\u001b[38;5;130;01m\\u0284\u001b[39;00m\u001b[38;5;130;01m\\u01c2\u001b[39;00m\u001b[38;5;130;01m\\u0260\u001b[39;00m\u001b[38;5;130;01m\\u01c1\u001b[39;00m\u001b[38;5;130;01m\\u029b\u001b[39;00m\u001b[38;5;124mpbtd\u001b[39m\u001b[38;5;130;01m\\u0288\u001b[39;00m\u001b[38;5;130;01m\\u0256\u001b[39;00m\u001b[38;5;124mc\u001b[39m\u001b[38;5;130;01m\\u025f\u001b[39;00m\u001b[38;5;124mk\u001b[39m\u001b[38;5;130;01m\\u0261\u001b[39;00m\u001b[38;5;124mq\u001b[39m\u001b[38;5;130;01m\\u0262\u001b[39;00m\u001b[38;5;130;01m\\u0294\u001b[39;00m\u001b[38;5;130;01m\\u0274\u001b[39;00m\u001b[38;5;130;01m\\u014b\u001b[39;00m\u001b[38;5;130;01m\\u0272\u001b[39;00m\u001b[38;5;130;01m\\u0273\u001b[39;00m\u001b[38;5;124mn\u001b[39m\u001b[38;5;130;01m\\u0271\u001b[39;00m\u001b[38;5;124mm\u001b[39m\u001b[38;5;130;01m\\u0299\u001b[39;00m\u001b[38;5;124mr\u001b[39m\u001b[38;5;130;01m\\u0280\u001b[39;00m\u001b[38;5;130;01m\\u2c71\u001b[39;00m\u001b[38;5;130;01m\\u027e\u001b[39;00m\u001b[38;5;130;01m\\u027d\u001b[39;00m\u001b[38;5;130;01m\\u0278\u001b[39;00m\u001b[38;5;130;01m\\u03b2\u001b[39;00m\u001b[38;5;124mfv\u001b[39m\u001b[38;5;130;01m\\u03b8\u001b[39;00m\u001b[38;5;130;01m\\u00f0\u001b[39;00m\u001b[38;5;124msz\u001b[39m\u001b[38;5;130;01m\\u0283\u001b[39;00m\u001b[38;5;130;01m\\u0292\u001b[39;00m\u001b[38;5;130;01m\\u0282\u001b[39;00m\u001b[38;5;130;01m\\u0290\u001b[39;00m\u001b[38;5;130;01m\\u00e7\u001b[39;00m\u001b[38;5;130;01m\\u029d\u001b[39;00m\u001b[38;5;124mx\u001b[39m\u001b[38;5;130;01m\\u0263\u001b[39;00m\u001b[38;5;130;01m\\u03c7\u001b[39;00m\u001b[38;5;130;01m\\u0281\u001b[39;00m\u001b[38;5;130;01m\\u0127\u001b[39;00m\u001b[38;5;130;01m\\u0295\u001b[39;00m\u001b[38;5;124mh\u001b[39m\u001b[38;5;130;01m\\u0266\u001b[39;00m\u001b[38;5;130;01m\\u026c\u001b[39;00m\u001b[38;5;130;01m\\u026e\u001b[39;00m\u001b[38;5;130;01m\\u028b\u001b[39;00m\u001b[38;5;130;01m\\u0279\u001b[39;00m\u001b[38;5;130;01m\\u027b\u001b[39;00m\u001b[38;5;124mj\u001b[39m\u001b[38;5;130;01m\\u0270\u001b[39;00m\u001b[38;5;124ml\u001b[39m\u001b[38;5;130;01m\\u026d\u001b[39;00m\u001b[38;5;130;01m\\u028e\u001b[39;00m\u001b[38;5;130;01m\\u029f\u001b[39;00m\u001b[38;5;130;01m\\u02c8\u001b[39;00m\u001b[38;5;130;01m\\u02cc\u001b[39;00m\u001b[38;5;130;01m\\u02d0\u001b[39;00m\u001b[38;5;130;01m\\u02d1\u001b[39;00m\u001b[38;5;130;01m\\u028d\u001b[39;00m\u001b[38;5;124mw\u001b[39m\u001b[38;5;130;01m\\u0265\u001b[39;00m\u001b[38;5;130;01m\\u029c\u001b[39;00m\u001b[38;5;130;01m\\u02a2\u001b[39;00m\u001b[38;5;130;01m\\u02a1\u001b[39;00m\u001b[38;5;130;01m\\u0255\u001b[39;00m\u001b[38;5;130;01m\\u0291\u001b[39;00m\u001b[38;5;130;01m\\u027a\u001b[39;00m\u001b[38;5;130;01m\\u0267\u001b[39;00m\u001b[38;5;130;01m\\u025a\u001b[39;00m\u001b[38;5;130;01m\\u02de\u001b[39;00m\u001b[38;5;130;01m\\u026b\u001b[39;00m\u001b[38;5;124m'\u001b[39m\u001b[38;5;130;01m\\u0303\u001b[39;00m\u001b[38;5;124m'\u001b[39m\u001b[38;5;124m \u001b[39m\u001b[38;5;124m\"\u001b[39m,\n\u001b[1;32m     40\u001b[0m         is_unique\u001b[38;5;241m=\u001b[39m\u001b[38;5;28;01mTrue\u001b[39;00m,\n\u001b[1;32m     41\u001b[0m         is_sorted\u001b[38;5;241m=\u001b[39m\u001b[38;5;28;01mTrue\u001b[39;00m,\n\u001b[1;32m     42\u001b[0m     ),\n\u001b[1;32m     43\u001b[0m     phoneme_cache_path\u001b[38;5;241m=\u001b[39m\u001b[38;5;28;01mNone\u001b[39;00m,\n\u001b[1;32m     44\u001b[0m     precompute_num_workers\u001b[38;5;241m=\u001b[39m\u001b[38;5;241m12\u001b[39m,\n\u001b[1;32m     45\u001b[0m     start_by_longest\u001b[38;5;241m=\u001b[39m\u001b[38;5;28;01mTrue\u001b[39;00m,\n\u001b[1;32m     46\u001b[0m     datasets\u001b[38;5;241m=\u001b[39mDATASETS_CONFIG_LIST,\n\u001b[1;32m     47\u001b[0m     cudnn_benchmark\u001b[38;5;241m=\u001b[39m\u001b[38;5;28;01mFalse\u001b[39;00m,\n\u001b[1;32m     48\u001b[0m     max_audio_len\u001b[38;5;241m=\u001b[39mSAMPLE_RATE \u001b[38;5;241m*\u001b[39m MAX_AUDIO_LEN_IN_SECONDS,\n\u001b[1;32m     49\u001b[0m     mixed_precision\u001b[38;5;241m=\u001b[39m\u001b[38;5;28;01mFalse\u001b[39;00m,\n\u001b[1;32m     50\u001b[0m     test_sentences\u001b[38;5;241m=\u001b[39m[\n\u001b[1;32m     51\u001b[0m         [\u001b[38;5;124m\"\u001b[39m\u001b[38;5;124mVoc\u001b[39m\u001b[38;5;130;01m\\u00ea\u001b[39;00m\u001b[38;5;124m ter\u001b[39m\u001b[38;5;130;01m\\u00e1\u001b[39;00m\u001b[38;5;124m a vista do topo da montanha que voc\u001b[39m\u001b[38;5;130;01m\\u00ea\u001b[39;00m\u001b[38;5;124m escalar.\u001b[39m\u001b[38;5;124m\"\u001b[39m, \u001b[38;5;124m\"\u001b[39m\u001b[38;5;124m9351\u001b[39m\u001b[38;5;124m\"\u001b[39m, \u001b[38;5;28;01mNone\u001b[39;00m, \u001b[38;5;124m\"\u001b[39m\u001b[38;5;124mpt-br\u001b[39m\u001b[38;5;124m\"\u001b[39m],\n\u001b[1;32m     52\u001b[0m         [\u001b[38;5;124m\"\u001b[39m\u001b[38;5;124mQuando voc\u001b[39m\u001b[38;5;130;01m\\u00ea\u001b[39;00m\u001b[38;5;124m n\u001b[39m\u001b[38;5;130;01m\\u00e3\u001b[39;00m\u001b[38;5;124mo corre nenhum risco, voc\u001b[39m\u001b[38;5;130;01m\\u00ea\u001b[39;00m\u001b[38;5;124m arrisca tudo.\u001b[39m\u001b[38;5;124m\"\u001b[39m, \u001b[38;5;124m\"\u001b[39m\u001b[38;5;124m12249\u001b[39m\u001b[38;5;124m\"\u001b[39m, \u001b[38;5;28;01mNone\u001b[39;00m, \u001b[38;5;124m\"\u001b[39m\u001b[38;5;124mpt-br\u001b[39m\u001b[38;5;124m\"\u001b[39m],\n\u001b[1;32m     53\u001b[0m         [\n\u001b[1;32m     54\u001b[0m             \u001b[38;5;124m\"\u001b[39m\u001b[38;5;124mS\u001b[39m\u001b[38;5;130;01m\\u00e3\u001b[39;00m\u001b[38;5;124mo necess\u001b[39m\u001b[38;5;130;01m\\u00e1\u001b[39;00m\u001b[38;5;124mrios muitos anos de trabalho para ter sucesso da noite para o dia.\u001b[39m\u001b[38;5;124m\"\u001b[39m,\n\u001b[1;32m     55\u001b[0m             \u001b[38;5;124m\"\u001b[39m\u001b[38;5;124m2961\u001b[39m\u001b[38;5;124m\"\u001b[39m,\n\u001b[1;32m     56\u001b[0m             \u001b[38;5;28;01mNone\u001b[39;00m,\n\u001b[1;32m     57\u001b[0m             \u001b[38;5;124m\"\u001b[39m\u001b[38;5;124mpt-br\u001b[39m\u001b[38;5;124m\"\u001b[39m,\n\u001b[1;32m     58\u001b[0m         ],\n\u001b[1;32m     59\u001b[0m         [\u001b[38;5;124m\"\u001b[39m\u001b[38;5;124mYou\u001b[39m\u001b[38;5;124m'\u001b[39m\u001b[38;5;124mll have the view of the top of the mountain that you climb.\u001b[39m\u001b[38;5;124m\"\u001b[39m, \u001b[38;5;124m\"\u001b[39m\u001b[38;5;124mLTTS_6574\u001b[39m\u001b[38;5;124m\"\u001b[39m, \u001b[38;5;28;01mNone\u001b[39;00m, \u001b[38;5;124m\"\u001b[39m\u001b[38;5;124men\u001b[39m\u001b[38;5;124m\"\u001b[39m],\n\u001b[1;32m     60\u001b[0m         [\u001b[38;5;124m\"\u001b[39m\u001b[38;5;124mWhen you don\u001b[39m\u001b[38;5;130;01m\\u2019\u001b[39;00m\u001b[38;5;124mt take any risks, you risk everything.\u001b[39m\u001b[38;5;124m\"\u001b[39m, \u001b[38;5;124m\"\u001b[39m\u001b[38;5;124mLTTS_6206\u001b[39m\u001b[38;5;124m\"\u001b[39m, \u001b[38;5;28;01mNone\u001b[39;00m, \u001b[38;5;124m\"\u001b[39m\u001b[38;5;124men\u001b[39m\u001b[38;5;124m\"\u001b[39m],\n\u001b[1;32m     61\u001b[0m         [\u001b[38;5;124m\"\u001b[39m\u001b[38;5;124mAre necessary too many years of work to succeed overnight.\u001b[39m\u001b[38;5;124m\"\u001b[39m, \u001b[38;5;124m\"\u001b[39m\u001b[38;5;124mLTTS_5717\u001b[39m\u001b[38;5;124m\"\u001b[39m, \u001b[38;5;28;01mNone\u001b[39;00m, \u001b[38;5;124m\"\u001b[39m\u001b[38;5;124men\u001b[39m\u001b[38;5;124m\"\u001b[39m],\n\u001b[1;32m     62\u001b[0m         [\u001b[38;5;124m\"\u001b[39m\u001b[38;5;124mJe hebt uitzicht op de top van de berg die je beklimt.\u001b[39m\u001b[38;5;124m\"\u001b[39m, \u001b[38;5;124m\"\u001b[39m\u001b[38;5;124m960\u001b[39m\u001b[38;5;124m\"\u001b[39m, \u001b[38;5;28;01mNone\u001b[39;00m, \u001b[38;5;124m\"\u001b[39m\u001b[38;5;124mdu\u001b[39m\u001b[38;5;124m\"\u001b[39m],\n\u001b[1;32m     63\u001b[0m         [\u001b[38;5;124m\"\u001b[39m\u001b[38;5;124mAls je geen risico neemt, riskeer je alles.\u001b[39m\u001b[38;5;124m\"\u001b[39m, \u001b[38;5;124m\"\u001b[39m\u001b[38;5;124m2450\u001b[39m\u001b[38;5;124m\"\u001b[39m, \u001b[38;5;28;01mNone\u001b[39;00m, \u001b[38;5;124m\"\u001b[39m\u001b[38;5;124mdu\u001b[39m\u001b[38;5;124m\"\u001b[39m],\n\u001b[1;32m     64\u001b[0m         [\u001b[38;5;124m\"\u001b[39m\u001b[38;5;124mZijn te veel jaren werk nodig om van de ene op de andere dag te slagen.\u001b[39m\u001b[38;5;124m\"\u001b[39m, \u001b[38;5;124m\"\u001b[39m\u001b[38;5;124m10984\u001b[39m\u001b[38;5;124m\"\u001b[39m, \u001b[38;5;28;01mNone\u001b[39;00m, \u001b[38;5;124m\"\u001b[39m\u001b[38;5;124mdu\u001b[39m\u001b[38;5;124m\"\u001b[39m],\n\u001b[1;32m     65\u001b[0m         [\u001b[38;5;124m\"\u001b[39m\u001b[38;5;124mVous aurez la vue sur le sommet de la montagne que vous gravirez.\u001b[39m\u001b[38;5;124m\"\u001b[39m, \u001b[38;5;124m\"\u001b[39m\u001b[38;5;124m6381\u001b[39m\u001b[38;5;124m\"\u001b[39m, \u001b[38;5;28;01mNone\u001b[39;00m, \u001b[38;5;124m\"\u001b[39m\u001b[38;5;124mfr\u001b[39m\u001b[38;5;124m\"\u001b[39m],\n\u001b[1;32m     66\u001b[0m         [\u001b[38;5;124m\"\u001b[39m\u001b[38;5;124mQuand tu ne prends aucun risque, tu risques tout.\u001b[39m\u001b[38;5;124m\"\u001b[39m, \u001b[38;5;124m\"\u001b[39m\u001b[38;5;124m2825\u001b[39m\u001b[38;5;124m\"\u001b[39m, \u001b[38;5;28;01mNone\u001b[39;00m, \u001b[38;5;124m\"\u001b[39m\u001b[38;5;124mfr\u001b[39m\u001b[38;5;124m\"\u001b[39m],\n\u001b[1;32m     67\u001b[0m         [\n\u001b[1;32m     68\u001b[0m             \u001b[38;5;124m\"\u001b[39m\u001b[38;5;124mSont n\u001b[39m\u001b[38;5;130;01m\\u00e9\u001b[39;00m\u001b[38;5;124mcessaires trop d\u001b[39m\u001b[38;5;124m'\u001b[39m\u001b[38;5;124mann\u001b[39m\u001b[38;5;130;01m\\u00e9\u001b[39;00m\u001b[38;5;124mes de travail pour r\u001b[39m\u001b[38;5;130;01m\\u00e9\u001b[39;00m\u001b[38;5;124mussir du jour au lendemain.\u001b[39m\u001b[38;5;124m\"\u001b[39m,\n\u001b[1;32m     69\u001b[0m             \u001b[38;5;124m\"\u001b[39m\u001b[38;5;124m1844\u001b[39m\u001b[38;5;124m\"\u001b[39m,\n\u001b[1;32m     70\u001b[0m             \u001b[38;5;28;01mNone\u001b[39;00m,\n\u001b[1;32m     71\u001b[0m             \u001b[38;5;124m\"\u001b[39m\u001b[38;5;124mfr\u001b[39m\u001b[38;5;124m\"\u001b[39m,\n\u001b[1;32m     72\u001b[0m         ],\n\u001b[1;32m     73\u001b[0m         [\u001b[38;5;124m\"\u001b[39m\u001b[38;5;124mSie haben die Aussicht auf die Spitze des Berges, den Sie erklimmen.\u001b[39m\u001b[38;5;124m\"\u001b[39m, \u001b[38;5;124m\"\u001b[39m\u001b[38;5;124m2314\u001b[39m\u001b[38;5;124m\"\u001b[39m, \u001b[38;5;28;01mNone\u001b[39;00m, \u001b[38;5;124m\"\u001b[39m\u001b[38;5;124mge\u001b[39m\u001b[38;5;124m\"\u001b[39m],\n\u001b[1;32m     74\u001b[0m         [\u001b[38;5;124m\"\u001b[39m\u001b[38;5;124mWer nichts riskiert, riskiert alles.\u001b[39m\u001b[38;5;124m\"\u001b[39m, \u001b[38;5;124m\"\u001b[39m\u001b[38;5;124m7483\u001b[39m\u001b[38;5;124m\"\u001b[39m, \u001b[38;5;28;01mNone\u001b[39;00m, \u001b[38;5;124m\"\u001b[39m\u001b[38;5;124mge\u001b[39m\u001b[38;5;124m\"\u001b[39m],\n\u001b[1;32m     75\u001b[0m         [\u001b[38;5;124m\"\u001b[39m\u001b[38;5;124mEs sind zu viele Jahre Arbeit notwendig, um \u001b[39m\u001b[38;5;130;01m\\u00fc\u001b[39;00m\u001b[38;5;124mber Nacht erfolgreich zu sein.\u001b[39m\u001b[38;5;124m\"\u001b[39m, \u001b[38;5;124m\"\u001b[39m\u001b[38;5;124m12461\u001b[39m\u001b[38;5;124m\"\u001b[39m, \u001b[38;5;28;01mNone\u001b[39;00m, \u001b[38;5;124m\"\u001b[39m\u001b[38;5;124mge\u001b[39m\u001b[38;5;124m\"\u001b[39m],\n\u001b[1;32m     76\u001b[0m         [\u001b[38;5;124m\"\u001b[39m\u001b[38;5;124mAvrai la vista della cima della montagna che sali.\u001b[39m\u001b[38;5;124m\"\u001b[39m, \u001b[38;5;124m\"\u001b[39m\u001b[38;5;124m4998\u001b[39m\u001b[38;5;124m\"\u001b[39m, \u001b[38;5;28;01mNone\u001b[39;00m, \u001b[38;5;124m\"\u001b[39m\u001b[38;5;124mit\u001b[39m\u001b[38;5;124m\"\u001b[39m],\n\u001b[1;32m     77\u001b[0m         [\u001b[38;5;124m\"\u001b[39m\u001b[38;5;124mQuando non corri alcun rischio, rischi tutto.\u001b[39m\u001b[38;5;124m\"\u001b[39m, \u001b[38;5;124m\"\u001b[39m\u001b[38;5;124m6744\u001b[39m\u001b[38;5;124m\"\u001b[39m, \u001b[38;5;28;01mNone\u001b[39;00m, \u001b[38;5;124m\"\u001b[39m\u001b[38;5;124mit\u001b[39m\u001b[38;5;124m\"\u001b[39m],\n\u001b[1;32m     78\u001b[0m         [\u001b[38;5;124m\"\u001b[39m\u001b[38;5;124mAre necessary too many years of work to succeed overnight.\u001b[39m\u001b[38;5;124m\"\u001b[39m, \u001b[38;5;124m\"\u001b[39m\u001b[38;5;124m1157\u001b[39m\u001b[38;5;124m\"\u001b[39m, \u001b[38;5;28;01mNone\u001b[39;00m, \u001b[38;5;124m\"\u001b[39m\u001b[38;5;124mit\u001b[39m\u001b[38;5;124m\"\u001b[39m],\n\u001b[1;32m     79\u001b[0m         [\n\u001b[1;32m     80\u001b[0m             \u001b[38;5;124m\"\u001b[39m\u001b[38;5;124mB\u001b[39m\u001b[38;5;130;01m\\u0119\u001b[39;00m\u001b[38;5;124mdziesz mie\u001b[39m\u001b[38;5;130;01m\\u0107\u001b[39;00m\u001b[38;5;124m widok na szczyt g\u001b[39m\u001b[38;5;130;01m\\u00f3\u001b[39;00m\u001b[38;5;124mry, na kt\u001b[39m\u001b[38;5;130;01m\\u00f3\u001b[39;00m\u001b[38;5;124mr\u001b[39m\u001b[38;5;130;01m\\u0105\u001b[39;00m\u001b[38;5;124m si\u001b[39m\u001b[38;5;130;01m\\u0119\u001b[39;00m\u001b[38;5;124m wspinasz.\u001b[39m\u001b[38;5;124m\"\u001b[39m,\n\u001b[1;32m     81\u001b[0m             \u001b[38;5;124m\"\u001b[39m\u001b[38;5;124m7014\u001b[39m\u001b[38;5;124m\"\u001b[39m,\n\u001b[1;32m     82\u001b[0m             \u001b[38;5;28;01mNone\u001b[39;00m,\n\u001b[1;32m     83\u001b[0m             \u001b[38;5;124m\"\u001b[39m\u001b[38;5;124mpl\u001b[39m\u001b[38;5;124m\"\u001b[39m,\n\u001b[1;32m     84\u001b[0m         ],\n\u001b[1;32m     85\u001b[0m         [\u001b[38;5;124m\"\u001b[39m\u001b[38;5;124mKiedy nie podejmujesz \u001b[39m\u001b[38;5;130;01m\\u017c\u001b[39;00m\u001b[38;5;124madnego ryzyka, ryzykujesz wszystko.\u001b[39m\u001b[38;5;124m\"\u001b[39m, \u001b[38;5;124m\"\u001b[39m\u001b[38;5;124m3492\u001b[39m\u001b[38;5;124m\"\u001b[39m, \u001b[38;5;28;01mNone\u001b[39;00m, \u001b[38;5;124m\"\u001b[39m\u001b[38;5;124mpl\u001b[39m\u001b[38;5;124m\"\u001b[39m],\n\u001b[1;32m     86\u001b[0m         [\n\u001b[1;32m     87\u001b[0m             \u001b[38;5;124m\"\u001b[39m\u001b[38;5;124mPotrzebne s\u001b[39m\u001b[38;5;130;01m\\u0105\u001b[39;00m\u001b[38;5;124m zbyt wiele lat pracy, aby odnie\u001b[39m\u001b[38;5;130;01m\\u015b\u001b[39;00m\u001b[38;5;130;01m\\u0107\u001b[39;00m\u001b[38;5;124m sukces z dnia na dzie\u001b[39m\u001b[38;5;130;01m\\u0144\u001b[39;00m\u001b[38;5;124m.\u001b[39m\u001b[38;5;124m\"\u001b[39m,\n\u001b[1;32m     88\u001b[0m             \u001b[38;5;124m\"\u001b[39m\u001b[38;5;124m1890\u001b[39m\u001b[38;5;124m\"\u001b[39m,\n\u001b[1;32m     89\u001b[0m             \u001b[38;5;28;01mNone\u001b[39;00m,\n\u001b[1;32m     90\u001b[0m             \u001b[38;5;124m\"\u001b[39m\u001b[38;5;124mpl\u001b[39m\u001b[38;5;124m\"\u001b[39m,\n\u001b[1;32m     91\u001b[0m         ],\n\u001b[1;32m     92\u001b[0m         [\u001b[38;5;124m\"\u001b[39m\u001b[38;5;124mTendr\u001b[39m\u001b[38;5;130;01m\\u00e1\u001b[39;00m\u001b[38;5;124ms la vista de la cima de la monta\u001b[39m\u001b[38;5;130;01m\\u00f1\u001b[39;00m\u001b[38;5;124ma que subes\u001b[39m\u001b[38;5;124m\"\u001b[39m, \u001b[38;5;124m\"\u001b[39m\u001b[38;5;124m101\u001b[39m\u001b[38;5;124m\"\u001b[39m, \u001b[38;5;28;01mNone\u001b[39;00m, \u001b[38;5;124m\"\u001b[39m\u001b[38;5;124msp\u001b[39m\u001b[38;5;124m\"\u001b[39m],\n\u001b[1;32m     93\u001b[0m         [\u001b[38;5;124m\"\u001b[39m\u001b[38;5;124mCuando no te arriesgas, lo arriesgas todo.\u001b[39m\u001b[38;5;124m\"\u001b[39m, \u001b[38;5;124m\"\u001b[39m\u001b[38;5;124m5922\u001b[39m\u001b[38;5;124m\"\u001b[39m, \u001b[38;5;28;01mNone\u001b[39;00m, \u001b[38;5;124m\"\u001b[39m\u001b[38;5;124msp\u001b[39m\u001b[38;5;124m\"\u001b[39m],\n\u001b[1;32m     94\u001b[0m         [\n\u001b[1;32m     95\u001b[0m             \u001b[38;5;124m\"\u001b[39m\u001b[38;5;124mSon necesarios demasiados a\u001b[39m\u001b[38;5;130;01m\\u00f1\u001b[39;00m\u001b[38;5;124mos de trabajo para triunfar de la noche a la ma\u001b[39m\u001b[38;5;130;01m\\u00f1\u001b[39;00m\u001b[38;5;124mana.\u001b[39m\u001b[38;5;124m\"\u001b[39m,\n\u001b[1;32m     96\u001b[0m             \u001b[38;5;124m\"\u001b[39m\u001b[38;5;124m10246\u001b[39m\u001b[38;5;124m\"\u001b[39m,\n\u001b[1;32m     97\u001b[0m             \u001b[38;5;28;01mNone\u001b[39;00m,\n\u001b[1;32m     98\u001b[0m             \u001b[38;5;124m\"\u001b[39m\u001b[38;5;124msp\u001b[39m\u001b[38;5;124m\"\u001b[39m,\n\u001b[1;32m     99\u001b[0m         ],\n\u001b[1;32m    100\u001b[0m     ],\n\u001b[1;32m    101\u001b[0m     \u001b[38;5;66;03m# Enable the weighted sampler\u001b[39;00m\n\u001b[1;32m    102\u001b[0m     use_weighted_sampler\u001b[38;5;241m=\u001b[39m\u001b[38;5;28;01mTrue\u001b[39;00m,\n\u001b[1;32m    103\u001b[0m     \u001b[38;5;66;03m# Ensures that all speakers are seen in the training batch equally no matter how many samples each speaker has\u001b[39;00m\n\u001b[1;32m    104\u001b[0m     \u001b[38;5;66;03m# weighted_sampler_attrs={\"language\": 1.0, \"speaker_name\": 1.0},\u001b[39;00m\n\u001b[1;32m    105\u001b[0m     weighted_sampler_attrs\u001b[38;5;241m=\u001b[39m{\u001b[38;5;124m\"\u001b[39m\u001b[38;5;124mlanguage\u001b[39m\u001b[38;5;124m\"\u001b[39m: \u001b[38;5;241m1.0\u001b[39m},\n\u001b[1;32m    106\u001b[0m     weighted_sampler_multipliers\u001b[38;5;241m=\u001b[39m{\n\u001b[1;32m    107\u001b[0m         \u001b[38;5;66;03m# \"speaker_name\": {\u001b[39;00m\n\u001b[1;32m    108\u001b[0m         \u001b[38;5;66;03m# you can force the batching scheme to give a higher weight to a certain speaker and then this speaker will appears more frequently on the batch.\u001b[39;00m\n\u001b[1;32m    109\u001b[0m         \u001b[38;5;66;03m# It will speedup the speaker adaptation process. Considering the CML train dataset and \"new_speaker\" as the speaker name of the speaker that you want to adapt.\u001b[39;00m\n\u001b[1;32m    110\u001b[0m         \u001b[38;5;66;03m# The line above will make the balancer consider the \"new_speaker\" as 106 speakers so 1/4 of the number of speakers present on CML dataset.\u001b[39;00m\n\u001b[1;32m    111\u001b[0m         \u001b[38;5;66;03m# 'new_speaker': 106, # (CML tot. train speaker)/4 = (424/4) = 106\u001b[39;00m\n\u001b[1;32m    112\u001b[0m         \u001b[38;5;66;03m# }\u001b[39;00m\n\u001b[1;32m    113\u001b[0m     },\n\u001b[1;32m    114\u001b[0m     \u001b[38;5;66;03m# It defines the Speaker Consistency Loss (SCL) α to 9 like the YourTTS paper\u001b[39;00m\n\u001b[1;32m    115\u001b[0m     speaker_encoder_loss_alpha\u001b[38;5;241m=\u001b[39m\u001b[38;5;241m9.0\u001b[39m,\n\u001b[1;32m    116\u001b[0m )\n",
      "\u001b[0;31mNameError\u001b[0m: name 'OUT_PATH' is not defined"
     ]
    }
   ],
   "source": [
    "config = VitsConfig(\n",
    "    output_path=OUT_PATH,\n",
    "    model_args=model_args,\n",
    "    run_name=RUN_NAME,\n",
    "    project_name=\"YourTTS\",\n",
    "    run_description=\"\"\"\n",
    "            - YourTTS trained using CML-TTS and LibriTTS datasets\n",
    "        \"\"\",\n",
    "    dashboard_logger=\"tensorboard\",\n",
    "    logger_uri=None,\n",
    "    audio=audio_config,\n",
    "    batch_size=BATCH_SIZE,\n",
    "    batch_group_size=48,\n",
    "    eval_batch_size=BATCH_SIZE,\n",
    "    num_loader_workers=8,\n",
    "    eval_split_max_size=256,\n",
    "    print_step=50,\n",
    "    plot_step=100,\n",
    "    log_model_step=1000,\n",
    "    save_step=5000,\n",
    "    save_n_checkpoints=2,\n",
    "    save_checkpoints=True,\n",
    "    target_loss=\"loss_1\",\n",
    "    print_eval=False,\n",
    "    use_phonemes=False,\n",
    "    phonemizer=\"espeak\",\n",
    "    phoneme_language=\"en\",\n",
    "    compute_input_seq_cache=True,\n",
    "    add_blank=True,\n",
    "    text_cleaner=\"multilingual_cleaners\",\n",
    "    characters=CharactersConfig(\n",
    "        characters_class=\"TTS.tts.models.vits.VitsCharacters\",\n",
    "        pad=\"_\",\n",
    "        eos=\"&\",\n",
    "        bos=\"*\",\n",
    "        blank=None,\n",
    "        characters=\"ABCDEFGHIJKLMNOPQRSTUVWXYZabcdefghijklmnopqrstuvwxyz\\u00a1\\u00a3\\u00b7\\u00b8\\u00c0\\u00c1\\u00c2\\u00c3\\u00c4\\u00c5\\u00c7\\u00c8\\u00c9\\u00ca\\u00cb\\u00cc\\u00cd\\u00ce\\u00cf\\u00d1\\u00d2\\u00d3\\u00d4\\u00d5\\u00d6\\u00d9\\u00da\\u00db\\u00dc\\u00df\\u00e0\\u00e1\\u00e2\\u00e3\\u00e4\\u00e5\\u00e7\\u00e8\\u00e9\\u00ea\\u00eb\\u00ec\\u00ed\\u00ee\\u00ef\\u00f1\\u00f2\\u00f3\\u00f4\\u00f5\\u00f6\\u00f9\\u00fa\\u00fb\\u00fc\\u0101\\u0104\\u0105\\u0106\\u0107\\u010b\\u0119\\u0141\\u0142\\u0143\\u0144\\u0152\\u0153\\u015a\\u015b\\u0161\\u0178\\u0179\\u017a\\u017b\\u017c\\u020e\\u04e7\\u05c2\\u1b20\",\n",
    "        punctuations=\"\\u2014!'(),-.:;?\\u00bf \",\n",
    "        phonemes=\"iy\\u0268\\u0289\\u026fu\\u026a\\u028f\\u028ae\\u00f8\\u0258\\u0259\\u0275\\u0264o\\u025b\\u0153\\u025c\\u025e\\u028c\\u0254\\u00e6\\u0250a\\u0276\\u0251\\u0252\\u1d7b\\u0298\\u0253\\u01c0\\u0257\\u01c3\\u0284\\u01c2\\u0260\\u01c1\\u029bpbtd\\u0288\\u0256c\\u025fk\\u0261q\\u0262\\u0294\\u0274\\u014b\\u0272\\u0273n\\u0271m\\u0299r\\u0280\\u2c71\\u027e\\u027d\\u0278\\u03b2fv\\u03b8\\u00f0sz\\u0283\\u0292\\u0282\\u0290\\u00e7\\u029dx\\u0263\\u03c7\\u0281\\u0127\\u0295h\\u0266\\u026c\\u026e\\u028b\\u0279\\u027bj\\u0270l\\u026d\\u028e\\u029f\\u02c8\\u02cc\\u02d0\\u02d1\\u028dw\\u0265\\u029c\\u02a2\\u02a1\\u0255\\u0291\\u027a\\u0267\\u025a\\u02de\\u026b'\\u0303' \",\n",
    "        is_unique=True,\n",
    "        is_sorted=True,\n",
    "    ),\n",
    "    phoneme_cache_path=None,\n",
    "    precompute_num_workers=12,\n",
    "    start_by_longest=True,\n",
    "    datasets=DATASETS_CONFIG_LIST,\n",
    "    cudnn_benchmark=False,\n",
    "    max_audio_len=SAMPLE_RATE * MAX_AUDIO_LEN_IN_SECONDS,\n",
    "    mixed_precision=False,\n",
    "    test_sentences=[\n",
    "        [\"Voc\\u00ea ter\\u00e1 a vista do topo da montanha que voc\\u00ea escalar.\", \"9351\", None, \"pt-br\"],\n",
    "        [\"Quando voc\\u00ea n\\u00e3o corre nenhum risco, voc\\u00ea arrisca tudo.\", \"12249\", None, \"pt-br\"],\n",
    "        [\n",
    "            \"S\\u00e3o necess\\u00e1rios muitos anos de trabalho para ter sucesso da noite para o dia.\",\n",
    "            \"2961\",\n",
    "            None,\n",
    "            \"pt-br\",\n",
    "        ],\n",
    "        [\"You'll have the view of the top of the mountain that you climb.\", \"LTTS_6574\", None, \"en\"],\n",
    "        [\"When you don\\u2019t take any risks, you risk everything.\", \"LTTS_6206\", None, \"en\"],\n",
    "        [\"Are necessary too many years of work to succeed overnight.\", \"LTTS_5717\", None, \"en\"],\n",
    "        [\"Je hebt uitzicht op de top van de berg die je beklimt.\", \"960\", None, \"du\"],\n",
    "        [\"Als je geen risico neemt, riskeer je alles.\", \"2450\", None, \"du\"],\n",
    "        [\"Zijn te veel jaren werk nodig om van de ene op de andere dag te slagen.\", \"10984\", None, \"du\"],\n",
    "        [\"Vous aurez la vue sur le sommet de la montagne que vous gravirez.\", \"6381\", None, \"fr\"],\n",
    "        [\"Quand tu ne prends aucun risque, tu risques tout.\", \"2825\", None, \"fr\"],\n",
    "        [\n",
    "            \"Sont n\\u00e9cessaires trop d'ann\\u00e9es de travail pour r\\u00e9ussir du jour au lendemain.\",\n",
    "            \"1844\",\n",
    "            None,\n",
    "            \"fr\",\n",
    "        ],\n",
    "        [\"Sie haben die Aussicht auf die Spitze des Berges, den Sie erklimmen.\", \"2314\", None, \"ge\"],\n",
    "        [\"Wer nichts riskiert, riskiert alles.\", \"7483\", None, \"ge\"],\n",
    "        [\"Es sind zu viele Jahre Arbeit notwendig, um \\u00fcber Nacht erfolgreich zu sein.\", \"12461\", None, \"ge\"],\n",
    "        [\"Avrai la vista della cima della montagna che sali.\", \"4998\", None, \"it\"],\n",
    "        [\"Quando non corri alcun rischio, rischi tutto.\", \"6744\", None, \"it\"],\n",
    "        [\"Are necessary too many years of work to succeed overnight.\", \"1157\", None, \"it\"],\n",
    "        [\n",
    "            \"B\\u0119dziesz mie\\u0107 widok na szczyt g\\u00f3ry, na kt\\u00f3r\\u0105 si\\u0119 wspinasz.\",\n",
    "            \"7014\",\n",
    "            None,\n",
    "            \"pl\",\n",
    "        ],\n",
    "        [\"Kiedy nie podejmujesz \\u017cadnego ryzyka, ryzykujesz wszystko.\", \"3492\", None, \"pl\"],\n",
    "        [\n",
    "            \"Potrzebne s\\u0105 zbyt wiele lat pracy, aby odnie\\u015b\\u0107 sukces z dnia na dzie\\u0144.\",\n",
    "            \"1890\",\n",
    "            None,\n",
    "            \"pl\",\n",
    "        ],\n",
    "        [\"Tendr\\u00e1s la vista de la cima de la monta\\u00f1a que subes\", \"101\", None, \"sp\"],\n",
    "        [\"Cuando no te arriesgas, lo arriesgas todo.\", \"5922\", None, \"sp\"],\n",
    "        [\n",
    "            \"Son necesarios demasiados a\\u00f1os de trabajo para triunfar de la noche a la ma\\u00f1ana.\",\n",
    "            \"10246\",\n",
    "            None,\n",
    "            \"sp\",\n",
    "        ],\n",
    "    ],\n",
    "    # Enable the weighted sampler\n",
    "    use_weighted_sampler=True,\n",
    "    # Ensures that all speakers are seen in the training batch equally no matter how many samples each speaker has\n",
    "    # weighted_sampler_attrs={\"language\": 1.0, \"speaker_name\": 1.0},\n",
    "    weighted_sampler_attrs={\"language\": 1.0},\n",
    "    weighted_sampler_multipliers={\n",
    "        # \"speaker_name\": {\n",
    "        # you can force the batching scheme to give a higher weight to a certain speaker and then this speaker will appears more frequently on the batch.\n",
    "        # It will speedup the speaker adaptation process. Considering the CML train dataset and \"new_speaker\" as the speaker name of the speaker that you want to adapt.\n",
    "        # The line above will make the balancer consider the \"new_speaker\" as 106 speakers so 1/4 of the number of speakers present on CML dataset.\n",
    "        # 'new_speaker': 106, # (CML tot. train speaker)/4 = (424/4) = 106\n",
    "        # }\n",
    "    },\n",
    "    # It defines the Speaker Consistency Loss (SCL) α to 9 like the YourTTS paper\n",
    "    speaker_encoder_loss_alpha=9.0,\n",
    ")"
   ]
  },
  {
   "cell_type": "code",
   "execution_count": null,
   "id": "dadccad7-f95e-42f2-8777-62a7531b68c6",
   "metadata": {},
   "outputs": [],
   "source": [
    "trainer = Trainer(\n",
    "    model_class=Vits,\n",
    "    config=config,\n",
    "    args=TrainerArgs(restore_path=RESTORE_PATH)\n",
    ")"
   ]
  }
 ],
 "metadata": {
  "kernelspec": {
   "display_name": "Python 3 (ipykernel)",
   "language": "python",
   "name": "python3"
  },
  "language_info": {
   "codemirror_mode": {
    "name": "ipython",
    "version": 3
   },
   "file_extension": ".py",
   "mimetype": "text/x-python",
   "name": "python",
   "nbconvert_exporter": "python",
   "pygments_lexer": "ipython3",
   "version": "3.10.12"
  }
 },
 "nbformat": 4,
 "nbformat_minor": 5
}
